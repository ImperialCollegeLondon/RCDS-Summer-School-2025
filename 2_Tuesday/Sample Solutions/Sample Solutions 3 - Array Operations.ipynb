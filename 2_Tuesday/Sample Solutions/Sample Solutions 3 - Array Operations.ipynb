{
 "cells": [
  {
   "cell_type": "markdown",
   "metadata": {},
   "source": [
    "# Exercise: Heat Pump Energy Usage\n",
    "\n",
    "## Temperature Profiles"
   ]
  },
  {
   "cell_type": "code",
   "execution_count": 8,
   "metadata": {},
   "outputs": [
    {
     "name": "stdout",
     "output_type": "stream",
     "text": [
      "Time (hours): [ 0  1  2  3  4  5  6  7  8  9 10 11 12 13 14 15 16 17 18 19 20 21 22 23]\n",
      "Outdoor Temperature (K): [260.         260.34074174 261.33974596 262.92893219 265.\n",
      " 267.41180955 270.         272.58819045 275.         277.07106781\n",
      " 278.66025404 279.65925826 280.         279.65925826 278.66025404\n",
      " 277.07106781 275.         272.58819045 270.         267.41180955\n",
      " 265.         262.92893219 261.33974596 260.34074174]\n",
      "Indoor Temperature (K): [293 293 293 293 293 293 293 293 293 293 293 293 293 293 293 293 293 293\n",
      " 293 293 293 293 293 293]\n"
     ]
    }
   ],
   "source": [
    "import numpy as np\n",
    "import math\n",
    "\n",
    "# Time (hours)\n",
    "t = np.arange(0, 24)\n",
    "\n",
    "# Exterior temperature (K)\n",
    "t_out = 270 + 10 * np.sin( math.pi / 12 * (t - 6))\n",
    "\n",
    "# Interior temperature (K)\n",
    "t_in = np.full(24, 293)\n",
    "\n",
    "print(\"Time (hours):\", t)\n",
    "print(\"Outdoor Temperature (K):\", t_out)\n",
    "print(\"Indoor Temperature (K):\", t_in)"
   ]
  },
  {
   "cell_type": "markdown",
   "metadata": {},
   "source": [
    "## Power Usage"
   ]
  },
  {
   "cell_type": "code",
   "execution_count": 9,
   "metadata": {},
   "outputs": [
    {
     "name": "stdout",
     "output_type": "stream",
     "text": [
      "Electrical Power (W) each hour: [743.3447099  728.07314012 684.21275477 617.24854563 535.15358362\n",
      " 446.93207547 361.09215017 284.39724851 221.16040956 173.19514038\n",
      " 140.36062407 121.48490792 115.35836177 121.48490792 140.36062407\n",
      " 173.19514038 221.16040956 284.39724851 361.09215017 446.93207547\n",
      " 535.15358362 617.24854563 684.21275477 728.07314012]\n"
     ]
    }
   ],
   "source": [
    "U = 2  # Heat transfer coefficient (W/m²K)\n",
    "A = 100  # Heat transfer surface area (m²)\n",
    "\n",
    "# Electrical power (W)\n",
    "p_elec = U * A * (t_in - t_out) * (1 - t_out / t_in)\n",
    "\n",
    "print(\"Electrical Power (W) each hour:\", p_elec)"
   ]
  },
  {
   "cell_type": "markdown",
   "metadata": {},
   "source": [
    "## Energy Usage"
   ]
  },
  {
   "cell_type": "code",
   "execution_count": 10,
   "metadata": {},
   "outputs": [
    {
     "name": "stdout",
     "output_type": "stream",
     "text": [
      "Electrical Energy (J) each hour: [2676040.9556314  2621063.30444771 2463165.91717886 2222094.76426275\n",
      " 1926552.90102389 1608955.47167821 1299931.74061433 1023830.09462732\n",
      "  796177.47440273  623502.50536183  505298.24664367  437345.66849591\n",
      "  415290.10238908  437345.66849591  505298.24664367  623502.50536183\n",
      "  796177.47440273 1023830.09462732 1299931.74061433 1608955.47167821\n",
      " 1926552.90102389 2222094.76426275 2463165.91717886 2621063.30444771]\n"
     ]
    }
   ],
   "source": [
    "e_elec = 3600 * p_elec\n",
    "\n",
    "print(\"Electrical Energy (J) each hour:\", e_elec)"
   ]
  },
  {
   "cell_type": "markdown",
   "metadata": {},
   "source": [
    "## Cost"
   ]
  },
  {
   "cell_type": "code",
   "execution_count": 11,
   "metadata": {},
   "outputs": [
    {
     "name": "stdout",
     "output_type": "stream",
     "text": [
      "Total 24-hour cost (£): 2.4381077406143334\n"
     ]
    }
   ],
   "source": [
    "# Total Energy Usage (J)\n",
    "total_energy_use = np.sum(e_elec)\n",
    "\n",
    "# Total 24-hour cost (£)\n",
    "total_cost = total_energy_use * 0.0000000714\n",
    "\n",
    "print(\"Total 24-hour cost (£):\", total_cost)"
   ]
  }
 ],
 "metadata": {
  "kernelspec": {
   "display_name": "Python 3",
   "language": "python",
   "name": "python3"
  },
  "language_info": {
   "codemirror_mode": {
    "name": "ipython",
    "version": 3
   },
   "file_extension": ".py",
   "mimetype": "text/x-python",
   "name": "python",
   "nbconvert_exporter": "python",
   "pygments_lexer": "ipython3",
   "version": "3.13.3"
  },
  "orig_nbformat": 4
 },
 "nbformat": 4,
 "nbformat_minor": 2
}
