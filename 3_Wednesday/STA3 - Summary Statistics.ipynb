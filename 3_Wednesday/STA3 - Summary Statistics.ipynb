{
 "cells": [
  {
   "cell_type": "markdown",
   "metadata": {},
   "source": [
    "# Summary Statistics\n",
    "\n",
    "In this section, we will revise some of the basic statistics used to summarise data.\n",
    "\n",
    "See also the cheat sheet `descriptive_statistics.pdf` provided.\n",
    "\n",
    "The file [counts.txt](Data/counts.txt) contains a sample of count data, as would be created by a survey repeated in multiple locations."
   ]
  },
  {
   "cell_type": "code",
   "execution_count": null,
   "metadata": {},
   "outputs": [],
   "source": [
    "import numpy as np\n",
    "\n",
    "# Load the data from a file\n",
    "data = np.loadtxt(\"Data/counts.txt\")"
   ]
  },
  {
   "cell_type": "code",
   "execution_count": null,
   "metadata": {},
   "outputs": [],
   "source": [
    "import matplotlib.pyplot as plt\n",
    "plt.hist(data)\n",
    "plt.show()"
   ]
  },
  {
   "cell_type": "markdown",
   "metadata": {},
   "source": [
    "---"
   ]
  },
  {
   "cell_type": "markdown",
   "metadata": {},
   "source": [
    "## Central Tendency\n",
    "\n",
    "These three measures all aim to describe the \"average\" value of the data distribution. Each one is relevant under different circumstances."
   ]
  },
  {
   "cell_type": "markdown",
   "metadata": {},
   "source": [
    "### Arithmetic mean\n",
    "*(quantitative data)*\n",
    "\n",
    "$$\n",
    "\\bar{x} = \\frac{1}{n} \\sum_{i=1}^{n} x_{i} ,\n",
    "$$\n",
    "where $x$ is the set of values in the sample and $n$ is the sample size.\n",
    "\n",
    "NB The mean can be a real (decimal) number even if the data themselves are discrete."
   ]
  },
  {
   "cell_type": "markdown",
   "metadata": {},
   "source": [
    "#### Exercise\n",
    "* Write your own function to calculate the mean of a numpy array. \n",
    "* Apply it to the data provided above."
   ]
  },
  {
   "cell_type": "code",
   "execution_count": null,
   "metadata": {},
   "outputs": [],
   "source": []
  },
  {
   "cell_type": "markdown",
   "metadata": {},
   "source": [
    "Of course, it will be helpful to have some pre-built statistics functions :)\n",
    "\n",
    "* [numpy stats functions](https://numpy.org/doc/stable/reference/routines.statistics.html)\n",
    "* [scipy.stats](https://docs.scipy.org/doc/scipy/reference/stats.html)"
   ]
  },
  {
   "cell_type": "markdown",
   "metadata": {},
   "source": [
    " repeat the above exercise using `numpy.mean()`"
   ]
  },
  {
   "cell_type": "code",
   "execution_count": null,
   "metadata": {},
   "outputs": [],
   "source": []
  },
  {
   "cell_type": "markdown",
   "metadata": {},
   "source": [
    "You could mark the mean on the histogram like so:"
   ]
  },
  {
   "cell_type": "code",
   "execution_count": null,
   "metadata": {},
   "outputs": [],
   "source": [
    "xbar = np.mean(data)\n",
    "\n",
    "plt.hist(data)\n",
    "plt.vlines( xbar, 0, 280, colors='blue' )\n",
    "plt.text( xbar + 2, 270, 'mean=' + str(xbar), color='blue', fontsize='large')\n",
    "plt.show()"
   ]
  },
  {
   "cell_type": "markdown",
   "metadata": {},
   "source": [
    "### Median\n",
    "*(quantitative data)*\n",
    "\n",
    "The median is the middle observation, such that  50% of data lies below its value. We order the data and select the middle value. If the sample size *n* is even, take the midpoint of the middle two values.\n"
   ]
  },
  {
   "cell_type": "markdown",
   "metadata": {},
   "source": [
    "#### Exercise \n",
    "Using only basic python, write a function `median()` to find the median value of a list of numbers. *Hint*: you will need to use `sorted()`"
   ]
  },
  {
   "cell_type": "code",
   "execution_count": null,
   "metadata": {},
   "outputs": [],
   "source": []
  },
  {
   "cell_type": "markdown",
   "metadata": {},
   "source": [
    "Try your function on the data provided above and compare to the result from `numpy.median()`"
   ]
  },
  {
   "cell_type": "code",
   "execution_count": null,
   "metadata": {},
   "outputs": [],
   "source": []
  },
  {
   "cell_type": "markdown",
   "metadata": {},
   "source": [
    "Clearly mark both the median and the mean on the histogram."
   ]
  },
  {
   "cell_type": "code",
   "execution_count": null,
   "metadata": {},
   "outputs": [],
   "source": []
  },
  {
   "cell_type": "markdown",
   "metadata": {},
   "source": [
    "Which of the two is a more representative value for this data set?"
   ]
  },
  {
   "cell_type": "markdown",
   "metadata": {},
   "source": []
  },
  {
   "cell_type": "markdown",
   "metadata": {},
   "source": [
    "### Mode\n",
    "*(categorical OR discrete data)*\n",
    "\n",
    "The mode is the value that occurs most frequently in the sample."
   ]
  },
  {
   "cell_type": "markdown",
   "metadata": {},
   "source": [
    "#### Exercise\n",
    "Using only basic python, write a function `mode()` to find the mode of a list of values."
   ]
  },
  {
   "cell_type": "code",
   "execution_count": null,
   "metadata": {},
   "outputs": [],
   "source": []
  },
  {
   "cell_type": "markdown",
   "metadata": {},
   "source": [
    "Try your function on the data provided and compare to the result from `scipy.stats.mode()` "
   ]
  },
  {
   "cell_type": "code",
   "execution_count": null,
   "metadata": {},
   "outputs": [],
   "source": []
  },
  {
   "cell_type": "markdown",
   "metadata": {},
   "source": [
    "---"
   ]
  },
  {
   "cell_type": "markdown",
   "metadata": {},
   "source": [
    "## Dispersion\n",
    "Dispersion measures aim to describe the *variability* of quantitative data - i.e. the degree to which it is spread out from the \"average\"."
   ]
  },
  {
   "cell_type": "markdown",
   "metadata": {},
   "source": [
    "### Inter-quartile range\n",
    "Similarly to the median, we can calculate *percentile* values that are greater than a specified proportion of the sampled data. The median is the same as the 50th percentile. *Quantile* is another name for percentile - we simply use a decimal value instead of a percentage."
   ]
  },
  {
   "cell_type": "code",
   "execution_count": null,
   "metadata": {},
   "outputs": [],
   "source": [
    "print(np.median(data))"
   ]
  },
  {
   "cell_type": "code",
   "execution_count": null,
   "metadata": {},
   "outputs": [],
   "source": [
    "print(np.quantile(data, 0.5))"
   ]
  },
  {
   "cell_type": "markdown",
   "metadata": {},
   "source": [
    "The difference between the 75th percentile (aka the upper quartile) and the 25th percentile (aka the lower quartile) is called the *inter-quartile range* (IQR), which is a good basic measure of dispersion"
   ]
  },
  {
   "cell_type": "code",
   "execution_count": null,
   "metadata": {},
   "outputs": [],
   "source": [
    "lq = np.quantile(data,0.25)\n",
    "uq = np.quantile(data,0.75)\n",
    "\n",
    "print(\"lower quartile:\",lq)\n",
    "print(\"upper quartile:\",uq)\n",
    "print(\"IQR:\",uq-lq)"
   ]
  },
  {
   "cell_type": "code",
   "execution_count": null,
   "metadata": {},
   "outputs": [],
   "source": [
    "from scipy.stats import iqr\n",
    "print(iqr(data))"
   ]
  },
  {
   "cell_type": "markdown",
   "metadata": {},
   "source": [
    "The IQR is the basis for the box-and-whisker plot:\n",
    "* the median is marked with a line\n",
    "* the upper and lower quartiles are marked with a box\n",
    "* the last data points within 1.5 $\\times$ IQR away from the box are marked with whiskers.\n",
    "* Any \"outlier\" values that are beyond the whiskers are marked with circles. "
   ]
  },
  {
   "cell_type": "code",
   "execution_count": null,
   "metadata": {},
   "outputs": [],
   "source": [
    "plt.boxplot(data)\n",
    "plt.show()"
   ]
  },
  {
   "cell_type": "markdown",
   "metadata": {},
   "source": [
    "The box plot can be a useful tool for summarising and comparing distributions, but bear in mind that it completely hides the *shape* of the distribution, so it can sometimes be misleading."
   ]
  },
  {
   "cell_type": "markdown",
   "metadata": {},
   "source": [
    "### Variance\n",
    "$$\n",
    "s^2 = \\frac{1}{n} \\sum_{i=1}^{n} (x_i - \\bar{x})^2\n",
    "$$"
   ]
  },
  {
   "cell_type": "markdown",
   "metadata": {},
   "source": [
    "#### Exercise\n",
    "* Write your own function to calculate the variance of a list of values. \n",
    "* Check that it works on the data above.\n",
    "* Compare to the result from `numpy.var()`."
   ]
  },
  {
   "cell_type": "code",
   "execution_count": null,
   "metadata": {},
   "outputs": [],
   "source": []
  },
  {
   "cell_type": "markdown",
   "metadata": {},
   "source": [
    "The above definition of variance is used to *describe* the variance of the data sample itself. When we want to *infer* the variance of the population, we should use a slightly adjusted definition:\n",
    "\n",
    "$$\n",
    "\\sigma^2 \\approx \\frac{1}{n - 1} \\sum_{i=1}^{n} (x_i - \\bar{x})^2\n",
    "$$\n",
    "\n",
    "You can switch to this definition using `ddof=1` as shown:"
   ]
  },
  {
   "cell_type": "code",
   "execution_count": null,
   "metadata": {},
   "outputs": [],
   "source": [
    "np.var(data, ddof=1)"
   ]
  },
  {
   "cell_type": "markdown",
   "metadata": {},
   "source": [
    "### Standard Deviation\n",
    "The standard deviation, $s$, is simply the square root of the variance, $s^2$. You can use"
   ]
  },
  {
   "cell_type": "code",
   "execution_count": null,
   "metadata": {},
   "outputs": [],
   "source": [
    "np.std(data)"
   ]
  },
  {
   "cell_type": "markdown",
   "metadata": {},
   "source": [
    "or to estimate the population standard deviation $\\sigma$, use"
   ]
  },
  {
   "cell_type": "code",
   "execution_count": null,
   "metadata": {},
   "outputs": [],
   "source": [
    "np.std(data, ddof=1)"
   ]
  },
  {
   "cell_type": "markdown",
   "metadata": {},
   "source": [
    "(this is often called the *sample standard deviation*, though this is a fairly ambiguous name!)"
   ]
  },
  {
   "cell_type": "markdown",
   "metadata": {},
   "source": [
    "---"
   ]
  },
  {
   "cell_type": "markdown",
   "metadata": {},
   "source": [
    "## Standard Error of the Mean\n",
    "\n",
    "If we want to use the sample mean $\\bar{x}$ as an estimate of the population mean $\\mu$ then it can be helpful to know how accurate this estimate is likely to be. If we have a very large sample size $n$ (and the sampling is random!) then it is clear that we will get a better estimate than if we only had two or three data points. The **standard error** is calculated from the (estimated) population standard deviation $\\sigma$ as\n",
    "$$\n",
    "\\text{SE} = \\frac{\\sigma}{\\sqrt{n}}\n",
    "$$"
   ]
  },
  {
   "cell_type": "code",
   "execution_count": null,
   "metadata": {},
   "outputs": [],
   "source": [
    "np.std(data, ddof=1)/np.sqrt(len(data))"
   ]
  },
  {
   "cell_type": "markdown",
   "metadata": {},
   "source": [
    "We make use of the standard error in a concise presentation of the estimated population mean, e.g.\n",
    "$$\n",
    "\\mu = 3.76 \\pm 0.84\n",
    "$$"
   ]
  },
  {
   "cell_type": "markdown",
   "metadata": {},
   "source": [
    "Another important use of the standard error is for calculating error bars on bar charts, when the height of each bar is representing a mean of several observed values - e.g. when an experiment has been repeated several times."
   ]
  },
  {
   "cell_type": "markdown",
   "metadata": {},
   "source": [
    "### Exercise\n",
    "Below are observations for each of three variables (a, b, c) from an experiment that was repeated three times.\n",
    "Draw a bar chart to show the estimated population means for a, b and c. Include error bars."
   ]
  },
  {
   "cell_type": "code",
   "execution_count": null,
   "metadata": {},
   "outputs": [],
   "source": [
    "a = [1.3, 1.6, 1.5]\n",
    "b = [8.3, 5.0, 9.0]\n",
    "c = [10.0, 11.0, 8.5]\n"
   ]
  },
  {
   "cell_type": "markdown",
   "metadata": {},
   "source": [
    "---"
   ]
  },
  {
   "cell_type": "markdown",
   "metadata": {},
   "source": [
    "## Pearson's Product Moment Correlation Coefficient"
   ]
  },
  {
   "cell_type": "markdown",
   "metadata": {},
   "source": [
    "This is another useful summary statistic when we are looking at paired sets of values $(x,y)$ - i.e. any pair of variables that we could plot on a scatter plot\n",
    "\n",
    "$$\n",
    "r = \\frac{ \\sum{ x_{i} y_{i} } - n \\bar{x} \\bar{y} } {(n - 1) s_{x} s_{y}},\n",
    "$$\n",
    "\n",
    "where $s_{x}$ and $s_{y}$ are the standard deviations of the individual variables $x$ and $y$.\n",
    "\n",
    "Pearson's $r$ varies from -1 (perfectly anticorrelated) to 1 (perfectly correlated). Values close to 0 show weak, possibly statistically insignificant correlations."
   ]
  },
  {
   "cell_type": "markdown",
   "metadata": {},
   "source": [
    "### Example\n",
    "\n",
    "The file *compounds.txt* contains data for molecular compounds. Two attributes are recorded for each compound - the polar surface area (**psa**) and the predicted hydrophobicity (**alogp**). Does hydrophobicity depend on polar surface area?"
   ]
  },
  {
   "cell_type": "code",
   "execution_count": null,
   "metadata": {},
   "outputs": [],
   "source": [
    "compound_data = np.loadtxt('Data/compounds.txt')\n",
    "psa = compound_data[:,0]\n",
    "alogp = compound_data[:,1]"
   ]
  },
  {
   "cell_type": "markdown",
   "metadata": {},
   "source": [
    "First let's draw the scatter plot:"
   ]
  },
  {
   "cell_type": "code",
   "execution_count": null,
   "metadata": {},
   "outputs": [],
   "source": [
    "import matplotlib.pyplot as plt\n",
    "plt.scatter(psa, alogp, c='gray', alpha=0.5)\n",
    "plt.xlabel('psa')\n",
    "plt.ylabel('alogp')\n",
    "plt.show()"
   ]
  },
  {
   "cell_type": "markdown",
   "metadata": {},
   "source": [
    "It seems that there is a negative correlation: as **psa** increases, **alogp** decreases.\n",
    "Let's quantify this using Pearson's $r$:"
   ]
  },
  {
   "cell_type": "code",
   "execution_count": null,
   "metadata": {},
   "outputs": [],
   "source": [
    "from scipy.stats import pearsonr\n",
    "r, pval = pearsonr(psa, alogp)\n",
    "print('r=',r)"
   ]
  },
  {
   "cell_type": "markdown",
   "metadata": {},
   "source": [
    "This value corresponds to moderate negative correlation, which is what we observed in the figure. The other value returned by the function (`pval`) is called a *p-value*, which is used to assess whether the statistical significance of the correlation. We will discuss p-values more in tomorrow's session!"
   ]
  },
  {
   "cell_type": "markdown",
   "metadata": {},
   "source": [
    "To complete the figure, let's add a regression line and annotate with the value of $r$ that we just calculated:"
   ]
  },
  {
   "cell_type": "code",
   "execution_count": null,
   "metadata": {},
   "outputs": [],
   "source": [
    "# Fit linear regression via least squares with numpy.polyfit\n",
    "# It returns an slope (m) and y-intercept (c)\n",
    "# deg=1 means linear fit (i.e. polynomial of degree 1)\n",
    "m, c = np.polyfit(psa, alogp, deg=1)"
   ]
  },
  {
   "cell_type": "code",
   "execution_count": null,
   "metadata": {},
   "outputs": [],
   "source": [
    "plt.scatter(psa, alogp, c='gray',alpha=0.5)\n",
    "plt.xlabel('psa')\n",
    "plt.ylabel('alogp')\n",
    "\n",
    "# Create a sequence of 100 numbers spanning the range of psa\n",
    "xseq = np.linspace(min(psa), max(psa), num=100)\n",
    "\n",
    "# Plot regression line\n",
    "plt.plot(xseq, m * xseq + c, color=\"k\", lw=2.5)\n",
    "plt.text(320, 0, 'r='+str(round(r,3)))\n",
    "plt.show()"
   ]
  },
  {
   "cell_type": "markdown",
   "metadata": {},
   "source": [
    "---"
   ]
  }
 ],
 "metadata": {
  "kernelspec": {
   "display_name": "hack25_2",
   "language": "python",
   "name": "python3"
  },
  "language_info": {
   "codemirror_mode": {
    "name": "ipython",
    "version": 3
   },
   "file_extension": ".py",
   "mimetype": "text/x-python",
   "name": "python",
   "nbconvert_exporter": "python",
   "pygments_lexer": "ipython3",
   "version": "3.13.5"
  }
 },
 "nbformat": 4,
 "nbformat_minor": 4
}
