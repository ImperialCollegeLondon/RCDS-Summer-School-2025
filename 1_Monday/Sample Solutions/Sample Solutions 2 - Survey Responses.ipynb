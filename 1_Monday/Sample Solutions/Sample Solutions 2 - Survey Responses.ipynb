{
 "cells": [
  {
   "cell_type": "markdown",
   "metadata": {},
   "source": [
    "## Task 1 - Data Loading"
   ]
  },
  {
   "cell_type": "code",
   "execution_count": null,
   "metadata": {},
   "outputs": [],
   "source": [
    "# Write your code here\n",
    "import json\n",
    "\n",
    "PATH_TO_FILE = \"../Data/survey_responses.json\" # this path is different to yours, because we're in a different place!\n",
    "\n",
    "with open(PATH_TO_FILE) as file:\n",
    "    data = json.load(file)\n",
    "\n",
    "print(data)"
   ]
  },
  {
   "cell_type": "markdown",
   "metadata": {},
   "source": [
    "## Task 2 - Data Cleaning"
   ]
  },
  {
   "cell_type": "code",
   "execution_count": null,
   "metadata": {},
   "outputs": [],
   "source": [
    "# Write your code here\n",
    "flat_list = []\n",
    "for response in data:\n",
    "    for model in response:\n",
    "        flat_list.append(model)\n",
    "\n",
    "print(flat_list)"
   ]
  },
  {
   "cell_type": "markdown",
   "metadata": {},
   "source": [
    "## Task 3 - Data Analysis"
   ]
  },
  {
   "cell_type": "code",
   "execution_count": null,
   "metadata": {},
   "outputs": [],
   "source": [
    "# Write your code here\n",
    "count = 0\n",
    "for model in flat_list:\n",
    "    if model == \"ChatGPT\":\n",
    "        count += 1\n",
    "\n",
    "print(f\"ChatGPT is used by {count} respondents!\")"
   ]
  },
  {
   "cell_type": "markdown",
   "metadata": {},
   "source": [
    "## Task 4 - Extension"
   ]
  },
  {
   "cell_type": "code",
   "execution_count": null,
   "metadata": {},
   "outputs": [],
   "source": [
    "# Write your function here.\n",
    "def count_models(flattened, name):\n",
    "    count = 0\n",
    "    for model in flattened:\n",
    "        if model == name:\n",
    "            count += 1\n",
    "\n",
    "    print(f\"{name} is used by {count} respondents!\")\n",
    "\n",
    "count_models(flat_list, \"ChatGPT\")\n",
    "count_models(flat_list, \"Claude\")"
   ]
  },
  {
   "cell_type": "markdown",
   "metadata": {},
   "source": [
    "## Task 5 - Counts Challenge"
   ]
  },
  {
   "cell_type": "code",
   "execution_count": null,
   "metadata": {},
   "outputs": [],
   "source": [
    "# a function to count students who chose a certain number of options\n",
    "def count_students_with_options(responses, num_options):\n",
    "    total = 0\n",
    "    for response in responses:\n",
    "        if len(response) == num_options:\n",
    "            total = total + 1\n",
    "    return total\n",
    "\n",
    "# calling the function for each option count\n",
    "for options in range(6):\n",
    "    result = count_students_with_options(data, options)\n",
    "    print(options, \"options:\", result)\n"
   ]
  },
  {
   "cell_type": "markdown",
   "metadata": {},
   "source": [
    "## Task 6 - Pairs Challenge"
   ]
  },
  {
   "cell_type": "code",
   "execution_count": null,
   "metadata": {},
   "outputs": [],
   "source": [
    "# lists to store unique pairs and counts\n",
    "pairs, counts = [], []\n",
    "\n",
    "for response in data:\n",
    "\n",
    "    # sort so pairs are consistent\n",
    "    response.sort()\n",
    "\n",
    "    # nested loop through all pairs in a response\n",
    "    for i in range(len(response)):\n",
    "        for j in range(i + 1, len(response)):\n",
    "\n",
    "            # get the pair\n",
    "            pair = [response[i], response[j]]\n",
    "\n",
    "            # if we haven't started counting this pair\n",
    "            if pair not in pairs:\n",
    "                pairs.append(pair)\n",
    "                counts.append(1)\n",
    "                continue\n",
    "            \n",
    "            # if the pair already exists\n",
    "            for k in range(len(pairs)):\n",
    "                if pairs[k] == pair:\n",
    "                    counts[k] += 1\n",
    "\n",
    "# print all pairs and look for the highest count\n",
    "for i in range(len(pairs)):\n",
    "    print(pairs[i], \":\", counts[i])\n"
   ]
  }
 ],
 "metadata": {
  "kernelspec": {
   "display_name": "Python 3",
   "language": "python",
   "name": "python3"
  },
  "language_info": {
   "codemirror_mode": {
    "name": "ipython",
    "version": 3
   },
   "file_extension": ".py",
   "mimetype": "text/x-python",
   "name": "python",
   "nbconvert_exporter": "python",
   "pygments_lexer": "ipython3",
   "version": "3.11.13"
  }
 },
 "nbformat": 4,
 "nbformat_minor": 4
}
