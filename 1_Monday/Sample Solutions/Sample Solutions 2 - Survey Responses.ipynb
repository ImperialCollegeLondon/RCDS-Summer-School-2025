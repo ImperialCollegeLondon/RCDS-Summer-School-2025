{
 "cells": [
  {
   "cell_type": "markdown",
   "metadata": {},
   "source": [
    "# Counting Survey Responses\n",
    "\n",
    "Data comes in all shapes and sizes. Extracting useful insights from data often involves preparation and *cleaning*. Usually, data is not directly available in our Python code, instead being stored in other files or databases. One common filetype for storing data is called **JSON** (Javascript Object Notation). Python comes with built-in libraries for reading these `.json` files, which we can use to further analyse the data therein.\n",
    "\n",
    "Let's say a colleague recently undertook a survey to determine which Generative AI chatbot was most used by students in their department. The survey software they used asked the following question and invited responses via the multi-checkbox seen in the image below:\n",
    "\n",
    "<center><img src=\"../../Resources/survey_checkbox.png\" style=\"height:300px\" /></center>\n",
    "\n",
    "The survey software captured fifty responses in total and the researcher exported the survey data to a JSON file. A short snippet of the JSON output can be seen in the image below.\n",
    "\n",
    "<center><img src=\"../../Resources/survey_responses.png\" style=\"height:300px\" /></center>\n",
    "\n",
    "Each response is captured as a list, so:\n",
    "\n",
    "- The first respondent selected **ChatGPT and Claude**\n",
    "- The second selected only **ChatGPT**\n",
    "- The third selected **Claude, Gemini and ChatGPT**\n",
    "\n",
    "It could be argued that this was not the best way to capture data for further analysis, but unfortunately, we have to work with what we have. The researcher would like to determine **how many of the respondents are using ChatGPT**.\n",
    "\n",
    "In this exercise, you will write code to load and clean the data, and answer the researcher's questions.\n",
    "\n",
    "**The data for this exercise is `survey_responses.json`, located in the `Data` directory within `1_Monday` directory.**"
   ]
  },
  {
   "cell_type": "markdown",
   "metadata": {},
   "source": [
    "## Breaking the task down to steps\n",
    "\n",
    "When planning to tackle a task—large or small—it is a good idea to outline the structure of the code (there is no coding involved yet). In this task, we build the code from the bottom up. \n",
    "\n",
    "This notebook divides the development process into three tasks. Each task description includes the necessary information to proceed with the coding. This is an example approach to tackling this problem.\n",
    "\n",
    "**Task 1** - Load the data from the JSON file into a Python data structure.\n",
    "\n",
    "**Task 2** - Clean the data to prepare it for analysis.\n",
    "\n",
    "**Task 3** - Analyse the cleaned data to determine the most selected tool."
   ]
  },
  {
   "cell_type": "markdown",
   "metadata": {},
   "source": [
    "## Task 1 - Data Loading\n",
    "\n",
    "The first step to load data is to determine where our data is located. In this exercise, we were told above:\n",
    "\n",
    "> **The data for this exercise is `survey_responses.json`, located in the `Data` directory within the `1_Monday` directory.**\n",
    "\n",
    "Using the *Explorer* in the left sidebar, see if you can find the `survey_responses.json` file now.\n",
    "\n",
    "Did you find it? Notice the `Data` directory is located in the same directory as the Notebook we are currently working in. Because of this, we would say, that *relative* to this Notebook, the file we are interested in loading is located in a directory called `Data`. To indicate that we are looking into a directory, we use a forward slash `/` - **note** that this is true for the Codespace and MacOS, but know that Windows machines usually use a backslash!.\n",
    "\n",
    "Now, we can write out the *relative path* to the file we are interested in. We might create a constant to store the path - by convention, we use all uppercase lettering to define constants.\n",
    "\n",
    "```python\n",
    "PATH_TO_FILE = \"Data/survey_repsonses.json\"\n",
    "```\n",
    "\n",
    "Once we know the path to our file, we can load the file into Python. The most common way to do this is using the `with` statement and the `open` function (which come together into a *context manager*). The `as` clause of the `with` statement stores the file object into a temporary variable (here called `file`), but only until the end of the indented block.\n",
    "\n",
    "```python\n",
    "with open(PATH_TO_FILE) as file:\n",
    "    # do something with the file\n",
    "```\n",
    "\n",
    "Now that we've loaded the file into Python, we'll need to read the JSON content within. For this, Python includes a *builtin* library called `json`. To use the library, we'll have to first import it into our Notebook.\n",
    "\n",
    "```python\n",
    "import json\n",
    "```\n",
    "\n",
    "Then we can use the `load` function of the library to read JSON data into a variable.\n",
    "\n",
    "```python\n",
    "data = json.load(file)\n",
    "```"
   ]
  },
  {
   "cell_type": "markdown",
   "metadata": {},
   "source": [
    "### Coding\n",
    "\n",
    "Can you bring together the approaches above to load the content of a JSON file into a Python variable?\n",
    "\n",
    "Write your code in the cell below:"
   ]
  },
  {
   "cell_type": "code",
   "execution_count": 2,
   "metadata": {},
   "outputs": [
    {
     "name": "stdout",
     "output_type": "stream",
     "text": [
      "[['ChatGPT', 'Claude'], ['ChatGPT'], ['Claude', 'Gemini', 'ChatGPT'], ['Copilot', 'ChatGPT'], ['ChatGPT', 'Grok'], ['Claude', 'ChatGPT', 'Gemini', 'Copilot'], ['Gemini'], ['ChatGPT', 'Claude', 'Copilot'], ['Claude', 'Grok'], ['ChatGPT', 'Gemini'], ['Copilot'], ['ChatGPT', 'Claude', 'Gemini', 'Copilot', 'Grok'], ['Claude', 'ChatGPT'], ['Gemini', 'Grok'], ['ChatGPT'], ['Claude', 'Copilot', 'Gemini'], ['ChatGPT', 'Grok'], ['Claude'], ['ChatGPT', 'Copilot'], ['Gemini', 'ChatGPT'], ['Claude', 'Grok', 'Gemini'], ['ChatGPT', 'Copilot', 'Claude'], ['Grok'], ['ChatGPT', 'Gemini', 'Grok'], ['Claude', 'Copilot'], ['ChatGPT'], ['Gemini', 'Claude', 'ChatGPT', 'Grok'], ['Copilot', 'Grok'], ['ChatGPT', 'Claude', 'Gemini'], ['Claude', 'Copilot', 'Grok'], ['ChatGPT', 'Gemini'], ['Grok', 'Claude'], ['ChatGPT', 'Copilot', 'Gemini', 'Grok'], ['Claude'], ['ChatGPT', 'Grok', 'Copilot'], ['Gemini', 'Claude'], ['ChatGPT'], ['Claude', 'Gemini', 'Grok', 'Copilot'], ['ChatGPT', 'Claude'], ['Copilot', 'Gemini'], ['ChatGPT', 'Grok'], ['Claude', 'ChatGPT', 'Copilot'], ['Gemini'], ['ChatGPT', 'Claude', 'Gemini', 'Grok'], ['Copilot'], ['ChatGPT', 'Gemini', 'Claude'], ['Grok', 'Copilot', 'Claude'], ['ChatGPT'], ['Claude', 'Gemini'], ['ChatGPT', 'Copilot', 'Grok', 'Claude', 'Gemini']]\n"
     ]
    }
   ],
   "source": [
    "# Write your code here\n",
    "import json\n",
    "\n",
    "PATH_TO_FILE = \"../Data/survey_responses.json\" # this path is different to yours, because we're in a different place!\n",
    "\n",
    "with open(PATH_TO_FILE) as file:\n",
    "    data = json.load(file)\n",
    "\n",
    "print(data)"
   ]
  },
  {
   "cell_type": "markdown",
   "metadata": {},
   "source": [
    "Check your work - if your print the new variable you've created, the output should look similar to this:\n",
    "```python\n",
    "print(data)\n",
    "```\n",
    "```bash\n",
    "[['ChatGPT', 'Claude'], ['ChatGPT'], ['Claude', 'Gemini', 'ChatGPT'], ...\n",
    "```\n",
    "\n",
    "For each of the exercises in this notebook, sample solutions can be found in [```Sample Solutions/Sample Solutions 2 - Survey Responses.ipynb```](Sample%20Solutions/Sample%20Solutions%202%20-%20Survey%20Responses.ipynb)."
   ]
  },
  {
   "cell_type": "markdown",
   "metadata": {},
   "source": [
    "## Task 2 - Data Cleaning\n",
    "\n",
    "Notice that the data you have loaded is a list, which itself contains other lists. You could write code to start counting the elements within each *inner* list, but this would quickly get complex. A better approach might be to *flatten* the current structure into a single list before starting to count."
   ]
  },
  {
   "cell_type": "markdown",
   "metadata": {},
   "source": [
    "### Coding\n",
    "\n",
    "Using loops and lists, can you create a new flat list which contains all the elements of the *inner* lists as individual elements? Use the code cell below."
   ]
  },
  {
   "cell_type": "code",
   "execution_count": 3,
   "metadata": {},
   "outputs": [
    {
     "name": "stdout",
     "output_type": "stream",
     "text": [
      "['ChatGPT', 'Claude', 'ChatGPT', 'Claude', 'Gemini', 'ChatGPT', 'Copilot', 'ChatGPT', 'ChatGPT', 'Grok', 'Claude', 'ChatGPT', 'Gemini', 'Copilot', 'Gemini', 'ChatGPT', 'Claude', 'Copilot', 'Claude', 'Grok', 'ChatGPT', 'Gemini', 'Copilot', 'ChatGPT', 'Claude', 'Gemini', 'Copilot', 'Grok', 'Claude', 'ChatGPT', 'Gemini', 'Grok', 'ChatGPT', 'Claude', 'Copilot', 'Gemini', 'ChatGPT', 'Grok', 'Claude', 'ChatGPT', 'Copilot', 'Gemini', 'ChatGPT', 'Claude', 'Grok', 'Gemini', 'ChatGPT', 'Copilot', 'Claude', 'Grok', 'ChatGPT', 'Gemini', 'Grok', 'Claude', 'Copilot', 'ChatGPT', 'Gemini', 'Claude', 'ChatGPT', 'Grok', 'Copilot', 'Grok', 'ChatGPT', 'Claude', 'Gemini', 'Claude', 'Copilot', 'Grok', 'ChatGPT', 'Gemini', 'Grok', 'Claude', 'ChatGPT', 'Copilot', 'Gemini', 'Grok', 'Claude', 'ChatGPT', 'Grok', 'Copilot', 'Gemini', 'Claude', 'ChatGPT', 'Claude', 'Gemini', 'Grok', 'Copilot', 'ChatGPT', 'Claude', 'Copilot', 'Gemini', 'ChatGPT', 'Grok', 'Claude', 'ChatGPT', 'Copilot', 'Gemini', 'ChatGPT', 'Claude', 'Gemini', 'Grok', 'Copilot', 'ChatGPT', 'Gemini', 'Claude', 'Grok', 'Copilot', 'Claude', 'ChatGPT', 'Claude', 'Gemini', 'ChatGPT', 'Copilot', 'Grok', 'Claude', 'Gemini']\n"
     ]
    }
   ],
   "source": [
    "# Write your code here\n",
    "flat_list = []\n",
    "for response in data:\n",
    "    for model in response:\n",
    "        flat_list.append(model)\n",
    "\n",
    "print(flat_list)"
   ]
  },
  {
   "cell_type": "markdown",
   "metadata": {},
   "source": [
    "## Task 3 - Data Analysis\n",
    "\n",
    "Now that we have clean data, we can more easily answer our researcher's question:\n",
    "\n",
    "- How many of the respondents are using ChatGPT?"
   ]
  },
  {
   "cell_type": "markdown",
   "metadata": {},
   "source": [
    "### Coding\n",
    "\n",
    "Using the *accumulator pattern*, can you answer the researcher's question?"
   ]
  },
  {
   "cell_type": "code",
   "execution_count": 4,
   "metadata": {},
   "outputs": [
    {
     "name": "stdout",
     "output_type": "stream",
     "text": [
      "ChatGPT is used by 30 respondents!\n"
     ]
    }
   ],
   "source": [
    "# Write your code here\n",
    "count = 0\n",
    "for model in flat_list:\n",
    "    if model == \"ChatGPT\":\n",
    "        count += 1\n",
    "\n",
    "print(f\"ChatGPT is used by {count} respondents!\")"
   ]
  },
  {
   "cell_type": "markdown",
   "metadata": {},
   "source": [
    "## Task 4 - Extension\n",
    "\n",
    "Great! We've answered the question. The code above works well to count the number of appearances of **ChatGPT** in the list. But what if our researcher wants to check the number of student respondents that used **Claude**?\n",
    "\n",
    "What feature of Python could you use to make your code above reusable? "
   ]
  },
  {
   "cell_type": "markdown",
   "metadata": {},
   "source": [
    "### Coding\n",
    "\n",
    "Use the code cell below to code up a function that could be used to count the occurrences of any model in any list."
   ]
  },
  {
   "cell_type": "code",
   "execution_count": 7,
   "metadata": {},
   "outputs": [
    {
     "name": "stdout",
     "output_type": "stream",
     "text": [
      "ChatGPT is used by 30 respondents!\n",
      "Claude is used by 26 respondents!\n"
     ]
    }
   ],
   "source": [
    "# Write your function here.\n",
    "def count_models(flattened, name):\n",
    "    count = 0\n",
    "    for model in flattened:\n",
    "        if model == name:\n",
    "            count += 1\n",
    "\n",
    "    print(f\"{name} is used by {count} respondents!\")\n",
    "\n",
    "count_models(flat_list, \"ChatGPT\")\n",
    "count_models(flat_list, \"Claude\")"
   ]
  }
 ],
 "metadata": {
  "kernelspec": {
   "display_name": "Python 3",
   "language": "python",
   "name": "python3"
  },
  "language_info": {
   "codemirror_mode": {
    "name": "ipython",
    "version": 3
   },
   "file_extension": ".py",
   "mimetype": "text/x-python",
   "name": "python",
   "nbconvert_exporter": "python",
   "pygments_lexer": "ipython3",
   "version": "3.11.13"
  }
 },
 "nbformat": 4,
 "nbformat_minor": 4
}
