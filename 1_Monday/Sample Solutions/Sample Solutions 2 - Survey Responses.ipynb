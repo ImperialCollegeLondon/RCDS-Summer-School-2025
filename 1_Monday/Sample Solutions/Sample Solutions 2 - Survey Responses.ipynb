{
 "cells": [
  {
   "cell_type": "markdown",
   "metadata": {},
   "source": [
    "## Task 1 - Data Loading"
   ]
  },
  {
   "cell_type": "code",
   "execution_count": 2,
   "metadata": {},
   "outputs": [
    {
     "name": "stdout",
     "output_type": "stream",
     "text": [
      "[['ChatGPT', 'Claude'], ['ChatGPT'], ['Claude', 'Gemini', 'ChatGPT'], ['Copilot', 'ChatGPT'], ['ChatGPT', 'Grok'], ['Claude', 'ChatGPT', 'Gemini', 'Copilot'], ['Gemini'], ['ChatGPT', 'Claude', 'Copilot'], ['Claude', 'Grok'], ['ChatGPT', 'Gemini'], ['Copilot'], ['ChatGPT', 'Claude', 'Gemini', 'Copilot', 'Grok'], ['Claude', 'ChatGPT'], ['Gemini', 'Grok'], ['ChatGPT'], ['Claude', 'Copilot', 'Gemini'], ['ChatGPT', 'Grok'], ['Claude'], ['ChatGPT', 'Copilot'], ['Gemini', 'ChatGPT'], ['Claude', 'Grok', 'Gemini'], ['ChatGPT', 'Copilot', 'Claude'], ['Grok'], ['ChatGPT', 'Gemini', 'Grok'], ['Claude', 'Copilot'], ['ChatGPT'], ['Gemini', 'Claude', 'ChatGPT', 'Grok'], ['Copilot', 'Grok'], ['ChatGPT', 'Claude', 'Gemini'], ['Claude', 'Copilot', 'Grok'], ['ChatGPT', 'Gemini'], ['Grok', 'Claude'], ['ChatGPT', 'Copilot', 'Gemini', 'Grok'], ['Claude'], ['ChatGPT', 'Grok', 'Copilot'], ['Gemini', 'Claude'], ['ChatGPT'], ['Claude', 'Gemini', 'Grok', 'Copilot'], ['ChatGPT', 'Claude'], ['Copilot', 'Gemini'], ['ChatGPT', 'Grok'], ['Claude', 'ChatGPT', 'Copilot'], ['Gemini'], ['ChatGPT', 'Claude', 'Gemini', 'Grok'], ['Copilot'], ['ChatGPT', 'Gemini', 'Claude'], ['Grok', 'Copilot', 'Claude'], ['ChatGPT'], ['Claude', 'Gemini'], ['ChatGPT', 'Copilot', 'Grok', 'Claude', 'Gemini']]\n"
     ]
    }
   ],
   "source": [
    "# Write your code here\n",
    "import json\n",
    "\n",
    "PATH_TO_FILE = \"../Data/survey_responses.json\" # this path is different to yours, because we're in a different place!\n",
    "\n",
    "with open(PATH_TO_FILE) as file:\n",
    "    data = json.load(file)\n",
    "\n",
    "print(data)"
   ]
  },
  {
   "cell_type": "markdown",
   "metadata": {},
   "source": [
    "## Task 2 - Data Cleaning"
   ]
  },
  {
   "cell_type": "code",
   "execution_count": 3,
   "metadata": {},
   "outputs": [
    {
     "name": "stdout",
     "output_type": "stream",
     "text": [
      "['ChatGPT', 'Claude', 'ChatGPT', 'Claude', 'Gemini', 'ChatGPT', 'Copilot', 'ChatGPT', 'ChatGPT', 'Grok', 'Claude', 'ChatGPT', 'Gemini', 'Copilot', 'Gemini', 'ChatGPT', 'Claude', 'Copilot', 'Claude', 'Grok', 'ChatGPT', 'Gemini', 'Copilot', 'ChatGPT', 'Claude', 'Gemini', 'Copilot', 'Grok', 'Claude', 'ChatGPT', 'Gemini', 'Grok', 'ChatGPT', 'Claude', 'Copilot', 'Gemini', 'ChatGPT', 'Grok', 'Claude', 'ChatGPT', 'Copilot', 'Gemini', 'ChatGPT', 'Claude', 'Grok', 'Gemini', 'ChatGPT', 'Copilot', 'Claude', 'Grok', 'ChatGPT', 'Gemini', 'Grok', 'Claude', 'Copilot', 'ChatGPT', 'Gemini', 'Claude', 'ChatGPT', 'Grok', 'Copilot', 'Grok', 'ChatGPT', 'Claude', 'Gemini', 'Claude', 'Copilot', 'Grok', 'ChatGPT', 'Gemini', 'Grok', 'Claude', 'ChatGPT', 'Copilot', 'Gemini', 'Grok', 'Claude', 'ChatGPT', 'Grok', 'Copilot', 'Gemini', 'Claude', 'ChatGPT', 'Claude', 'Gemini', 'Grok', 'Copilot', 'ChatGPT', 'Claude', 'Copilot', 'Gemini', 'ChatGPT', 'Grok', 'Claude', 'ChatGPT', 'Copilot', 'Gemini', 'ChatGPT', 'Claude', 'Gemini', 'Grok', 'Copilot', 'ChatGPT', 'Gemini', 'Claude', 'Grok', 'Copilot', 'Claude', 'ChatGPT', 'Claude', 'Gemini', 'ChatGPT', 'Copilot', 'Grok', 'Claude', 'Gemini']\n"
     ]
    }
   ],
   "source": [
    "# Write your code here\n",
    "flat_list = []\n",
    "for response in data:\n",
    "    for model in response:\n",
    "        flat_list.append(model)\n",
    "\n",
    "print(flat_list)"
   ]
  },
  {
   "cell_type": "markdown",
   "metadata": {},
   "source": [
    "## Task 3 - Data Analysis"
   ]
  },
  {
   "cell_type": "code",
   "execution_count": 4,
   "metadata": {},
   "outputs": [
    {
     "name": "stdout",
     "output_type": "stream",
     "text": [
      "ChatGPT is used by 30 respondents!\n"
     ]
    }
   ],
   "source": [
    "# Write your code here\n",
    "count = 0\n",
    "for model in flat_list:\n",
    "    if model == \"ChatGPT\":\n",
    "        count += 1\n",
    "\n",
    "print(f\"ChatGPT is used by {count} respondents!\")"
   ]
  },
  {
   "cell_type": "markdown",
   "metadata": {},
   "source": [
    "## Task 4 - Extension"
   ]
  },
  {
   "cell_type": "code",
   "execution_count": 7,
   "metadata": {},
   "outputs": [
    {
     "name": "stdout",
     "output_type": "stream",
     "text": [
      "ChatGPT is used by 30 respondents!\n",
      "Claude is used by 26 respondents!\n"
     ]
    }
   ],
   "source": [
    "# Write your function here.\n",
    "def count_models(flattened, name):\n",
    "    count = 0\n",
    "    for model in flattened:\n",
    "        if model == name:\n",
    "            count += 1\n",
    "\n",
    "    print(f\"{name} is used by {count} respondents!\")\n",
    "\n",
    "count_models(flat_list, \"ChatGPT\")\n",
    "count_models(flat_list, \"Claude\")"
   ]
  }
 ],
 "metadata": {
  "kernelspec": {
   "display_name": "Python 3",
   "language": "python",
   "name": "python3"
  },
  "language_info": {
   "codemirror_mode": {
    "name": "ipython",
    "version": 3
   },
   "file_extension": ".py",
   "mimetype": "text/x-python",
   "name": "python",
   "nbconvert_exporter": "python",
   "pygments_lexer": "ipython3",
   "version": "3.11.13"
  }
 },
 "nbformat": 4,
 "nbformat_minor": 4
}
