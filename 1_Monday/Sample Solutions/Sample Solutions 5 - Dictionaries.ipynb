{
 "cells": [
  {
   "cell_type": "markdown",
   "metadata": {},
   "source": [
    "# Base Counting\n",
    "\n",
    "## Without using str.count()"
   ]
  },
  {
   "cell_type": "code",
   "execution_count": null,
   "metadata": {},
   "outputs": [],
   "source": [
    "def base_counter(sequence):\n",
    "    base_counts = {\"A\": 0, \"C\": 0, \"G\": 0, \"T\": 0}\n",
    "    for base in sequence:\n",
    "        base_counts[base] += 1\n",
    "    return base_counts\n",
    "\n",
    "# Some tests\n",
    "print(base_counter(\"\")) # Should print {'A': 0, 'C': 0, 'G': 0, 'T': 0}\n",
    "print(base_counter(\"ACGT\")) # Should print {'A': 1, 'C': 1, 'G': 1, 'T': 1}\n",
    "print(base_counter(\"TGCAACGT\")) # Should print {'A': 2, 'C': 2, 'G': 2, 'T': 2}\n",
    "print(base_counter(\"GATTACA\")) # Should print {'A': 3, 'C': 1, 'G': 1, 'T': 2}"
   ]
  },
  {
   "cell_type": "markdown",
   "metadata": {},
   "source": [
    "## Using str.count()"
   ]
  },
  {
   "cell_type": "code",
   "execution_count": null,
   "metadata": {},
   "outputs": [],
   "source": [
    "def base_counter(sequence):\n",
    "    return {\"A\": sequence.count(\"A\"), \"C\": sequence.count(\"C\"), \"G\": sequence.count(\"G\"), \"T\": sequence.count(\"T\")}\n",
    "\n",
    "# Some tests\n",
    "print(base_counter(\"\")) # Should print {'A': 0, 'C': 0, 'G': 0, 'T': 0}\n",
    "print(base_counter(\"ACGT\")) # Should print {'A': 1, 'C': 1, 'G': 1, 'T': 1}\n",
    "print(base_counter(\"TGCAACGT\")) # Should print {'A': 2, 'C': 2, 'G': 2, 'T': 2}\n",
    "print(base_counter(\"GATTACA\")) # Should print {'A': 3, 'C': 1, 'G': 1, 'T': 2}"
   ]
  },
  {
   "cell_type": "markdown",
   "metadata": {},
   "source": [
    "## Read a FASTA File"
   ]
  },
  {
   "cell_type": "code",
   "execution_count": null,
   "metadata": {},
   "outputs": [],
   "source": [
    "PATH_TO_FILE = \"../Data/aroK.fasta\"\n",
    "\n",
    "# a variable to store the DNA string\n",
    "dna = \"\"\n",
    "\n",
    "with open(PATH_TO_FILE) as file:\n",
    "    # read the first line and print it to the screen.\n",
    "    print(file.readline())  \n",
    "\n",
    "    # read in the DNA line by line ...\n",
    "    while True:\n",
    "        line = file.readline()\n",
    "        if not line:\n",
    "            break  # stop when end of file is reached\n",
    "        dna = \"\".join([dna, line.strip()])  # join the new DNA (minus the '\\n') to the existing string\n",
    "\n",
    "# print out the DNA ...\n",
    "print(dna)\n"
   ]
  },
  {
   "cell_type": "code",
   "execution_count": null,
   "metadata": {},
   "outputs": [],
   "source": [
    "# a function to calculate the GC content using base_counter\n",
    "def gc_content(sequence):\n",
    "    counts = base_counter(sequence)\n",
    "    return (counts['C'] + counts['G']) / sum(counts.values())\n",
    "\n",
    "print(f\"GC content: {gc_content(dna) * 100}%\")\n"
   ]
  },
  {
   "cell_type": "markdown",
   "metadata": {},
   "source": [
    "## Translate DNA to Protein"
   ]
  },
  {
   "cell_type": "code",
   "execution_count": null,
   "metadata": {},
   "outputs": [],
   "source": [
    "# 1. Codon List\n",
    "\n",
    "codons = []\n",
    "for i in range(0, len(dna), 3):\n",
    "    codons.append(dna[i:(i+3)])\n",
    "\n",
    "print(codons)"
   ]
  },
  {
   "cell_type": "code",
   "execution_count": null,
   "metadata": {},
   "outputs": [],
   "source": [
    "# 2.1 Load the Translation Table\n",
    "\n",
    "PATH_TO_TRANSLATION_TABLE = '../Data/codon_table_11.txt'\n",
    "\n",
    "translation_table = {}\n",
    "with open(PATH_TO_TRANSLATION_TABLE) as file:\n",
    "    while True:\n",
    "        line = file.readline()\n",
    "        if not line:\n",
    "            break  # stop when end of file is reached\n",
    "        parts = line.strip().split(\" \")  # split the line into the codon and amino acid parts\n",
    "        translation_table[parts[0]] = parts[1]  # add the new codon to the table\n",
    "\n",
    "print(translation_table)"
   ]
  },
  {
   "cell_type": "code",
   "execution_count": null,
   "metadata": {},
   "outputs": [],
   "source": [
    "# 2.2 Translate to Protein\n",
    "\n",
    "protein = \"\"\n",
    "for c in codons:\n",
    "    protein = \"\".join([protein, translation_table[c]])\n",
    "\n",
    "protein"
   ]
  },
  {
   "cell_type": "code",
   "execution_count": null,
   "metadata": {},
   "outputs": [],
   "source": [
    "# Save as FASTA file\n",
    "\n",
    "OUTPUT_FILENAME = \"my_protein.fasta\"\n",
    "LINE_LENGTH = 50  # how many amino acids for each line (not necessary but makes the file easier to read)\n",
    "\n",
    "protein = protein[:-1]  # remove the '*' (stop signal) from the end of the sequence\n",
    "\n",
    "with open(OUTPUT_FILENAME, 'w') as file:\n",
    "    file.write(\">aroK protein\\n\")\n",
    "    for i in range(len(protein) // LINE_LENGTH  + 1):  # how many lines to print\n",
    "        file.write(protein[:LINE_LENGTH])\n",
    "        file.write(\"\\n\")\n",
    "        protein = protein[LINE_LENGTH:]\n"
   ]
  },
  {
   "cell_type": "markdown",
   "metadata": {},
   "source": [
    "You can check the correct protein sequence at GenBank [here](https://www.ncbi.nlm.nih.gov/protein/AAC36834.1?report=fasta)."
   ]
  },
  {
   "cell_type": "markdown",
   "metadata": {},
   "source": []
  }
 ],
 "metadata": {
  "kernelspec": {
   "display_name": "base",
   "language": "python",
   "name": "python3"
  },
  "language_info": {
   "codemirror_mode": {
    "name": "ipython",
    "version": 3
   },
   "file_extension": ".py",
   "mimetype": "text/x-python",
   "name": "python",
   "nbconvert_exporter": "python",
   "pygments_lexer": "ipython3",
   "version": "3.12.2"
  },
  "orig_nbformat": 4
 },
 "nbformat": 4,
 "nbformat_minor": 2
}
