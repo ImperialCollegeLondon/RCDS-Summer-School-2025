{
 "cells": [
  {
   "cell_type": "markdown",
   "metadata": {},
   "source": [
    "# Earthquakes Hackathon\n"
   ]
  },
  {
   "cell_type": "markdown",
   "metadata": {},
   "source": [
    "---\n",
    "\n",
    "\n",
    "Working as a group or individually, try to address some of the following:\n",
    "\n",
    "\n",
    "1. Visualise the earthquakes for a particular country in a particular year.\n",
    "\n",
    "2. Draw a map of the earthquake faults that pass through a particular country.\n",
    "\n",
    "3. Draw a map of the volcanoes in the vicinity of a particular country.\n",
    "\n",
    "4. Investigate how the earthquake activity of a particular fault has changed over the last 50 years.\n",
    "\n",
    "5. Investigate whether the depth of an earthquake is related to its magnitude.\n",
    "\n",
    "6. Investigate whether the activity of a particular fault shows seasonal variations.\n",
    "\n",
    "7. Investigate whether the activity of a particular fault shows periodicity over longer timescales.\n",
    "\n",
    "7. Investigate whether earthquake activity is associated with volcanic eruptions.\n",
    "\n",
    "8. Think of your own visualisations and/or investigations ...\n"
   ]
  },
  {
   "cell_type": "markdown",
   "metadata": {},
   "source": [
    "### Tasks\n",
    "\n",
    "\n",
    "To be most efficient as a group, identify tasks that can be worked on in parallel. \n",
    "\n",
    "You might not need to wait for real data to be able to make progress with the code for your part of the analysis."
   ]
  },
  {
   "cell_type": "markdown",
   "metadata": {},
   "source": [
    "### Data\n",
    "\n",
    "Using the USGS API, you have access to earthquake data over any time range. However, the server will refuse to return very large amounts of data for a single query.\n",
    "\n",
    "You will need to restrict your queries to a particular region of the Earth's surface, time period and minimum magnitude.\n",
    "\n",
    "\"Earthquake activity\" could be characterised in various ways. Think about which measure(s) you want to use.\n"
   ]
  },
  {
   "cell_type": "markdown",
   "metadata": {},
   "source": [
    "### Data summaries\n",
    "\n",
    "Numerical and/or graphical summaries of the data will be an excellent way of communicating your results.\n",
    "\n",
    "What aspects of the data do you want to show?\n",
    "\n",
    "What kinds of graphs will you use?\n",
    "\n",
    "Can you make use of Folium to summarise relevant data on a map?"
   ]
  },
  {
   "cell_type": "markdown",
   "metadata": {},
   "source": [
    "### Hypothesis tests\n",
    "\n",
    "There is some evidence that [climate can affect seismic activity](https://science.nasa.gov/earth/climate-change/can-climate-affect-earthquakes-or-are-the-connections-shaky/), but experts are still a long way from reaching agreement. How could you investigate this idea?\n",
    "\n",
    "What other hypotheses do you have about how earthquake activity varies over time?\n",
    "\n",
    "What kinds of statistical test could be used?"
   ]
  },
  {
   "cell_type": "markdown",
   "metadata": {},
   "source": [
    "### Interactive visualisations\n",
    "\n",
    "The Timeline and/or LayerControl components of Folium might be useful to make an interactive map.\n"
   ]
  },
  {
   "cell_type": "markdown",
   "metadata": {},
   "source": [
    "### Report\n",
    "\n",
    "Can you summarise your findings in a short document?"
   ]
  },
  {
   "cell_type": "markdown",
   "metadata": {},
   "source": [
    "---"
   ]
  },
  {
   "cell_type": "markdown",
   "metadata": {},
   "source": [
    "### Data sources\n",
    "\n",
    "\n",
    "Field descriptions for the earthquake records are here:\n",
    "\n",
    "https://earthquake.usgs.gov/data/comcat/data-eventterms.php#magType\n",
    "\n",
    "\n",
    "\n",
    "`Global_Active_Earthquake_Faults.geojson` is taken from here:\n",
    "\n",
    "https://www.pacificgeoportal.com/datasets/arcgis-content::global-active-earthquake-faults/about\n",
    "\n",
    "\n",
    "`volcanoes.json` and `eruptions.json` are derived from data taken from here:\n",
    "\n",
    "https://volcano.si.edu/database/webservices.cfm\n",
    "\n"
   ]
  },
  {
   "cell_type": "markdown",
   "metadata": {},
   "source": [
    "\n",
    "---"
   ]
  },
  {
   "cell_type": "code",
   "execution_count": null,
   "metadata": {},
   "outputs": [],
   "source": [
    "# Ready, steady, HACK!\n"
   ]
  }
 ],
 "metadata": {
  "kernelspec": {
   "display_name": "Python 3",
   "language": "python",
   "name": "python3"
  },
  "language_info": {
   "codemirror_mode": {
    "name": "ipython",
    "version": 3
   },
   "file_extension": ".py",
   "mimetype": "text/x-python",
   "name": "python",
   "nbconvert_exporter": "python",
   "pygments_lexer": "ipython3",
   "version": "3.8.3"
  }
 },
 "nbformat": 4,
 "nbformat_minor": 4
}
