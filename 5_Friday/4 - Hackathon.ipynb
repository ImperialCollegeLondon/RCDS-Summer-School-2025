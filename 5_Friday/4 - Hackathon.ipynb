{
 "cells": [
  {
   "cell_type": "markdown",
   "metadata": {},
   "source": [
    "# Earthquakes Hackathon\n"
   ]
  },
  {
   "cell_type": "markdown",
   "metadata": {},
   "source": [
    "---\n",
    "\n",
    "\n",
    "Working as a group or individually, try to find ways to address the following research question:\n",
    "\n",
    "**How has earthquake activity changed since the start of this century?**\n",
    "\n"
   ]
  },
  {
   "cell_type": "markdown",
   "metadata": {},
   "source": [
    "### Tasks\n",
    "\n",
    "\n",
    "To be most efficient as a group, identify tasks that can be worked on in parallel. \n",
    "\n",
    "You might not need to wait for real data to be able to make progress with the code for your part of the analysis."
   ]
  },
  {
   "cell_type": "markdown",
   "metadata": {},
   "source": [
    "### Data\n",
    "\n",
    "Using the USGS API, you have access to earthquake data over any time range. However, the server will struggle to return very large amounts of data for a single query.\n",
    "\n",
    "Where appropriate, consider limiting your investigations to a specific part of the world.\n",
    "\n",
    "\"Earthquake activity\" could be characterised by several measures. Think about which measure(s) you want to focus on.\n",
    "\n",
    "Think about other sources of data that might be relevant."
   ]
  },
  {
   "cell_type": "markdown",
   "metadata": {},
   "source": [
    "### Data summaries\n",
    "\n",
    "Numerical and/or graphical summaries of the data will be an excellent way of communicating your results.\n",
    "\n",
    "What aspects of the data do you want to show?\n",
    "\n",
    "What kinds of graphs will you use?\n",
    "\n",
    "Can you make use of Folium to summarise relevant data on a map?"
   ]
  },
  {
   "cell_type": "markdown",
   "metadata": {},
   "source": [
    "### Hypothesis tests\n",
    "\n",
    "There is some evidence that [climate can affect seismic activity](https://science.nasa.gov/earth/climate-change/can-climate-affect-earthquakes-or-are-the-connections-shaky/), but experts are still a long way from reaching agreement. How could you investigate this idea?\n",
    "\n",
    "What other hypotheses do you have about how earthquake activity varies over time?\n",
    "\n",
    "What kinds of statistical test could be used?"
   ]
  },
  {
   "cell_type": "markdown",
   "metadata": {},
   "source": [
    "### Interactive visualisations\n",
    "\n",
    "The Timeline and/or LayerControl components of Folium might be useful to make an interactive map.\n"
   ]
  },
  {
   "cell_type": "markdown",
   "metadata": {},
   "source": [
    "### Report\n",
    "\n",
    "Can you summarise your findings in a short document?"
   ]
  },
  {
   "cell_type": "markdown",
   "metadata": {},
   "source": [
    "---"
   ]
  },
  {
   "cell_type": "code",
   "execution_count": null,
   "metadata": {},
   "outputs": [],
   "source": [
    "# Ready, steady, HACK!\n"
   ]
  }
 ],
 "metadata": {
  "kernelspec": {
   "display_name": "Python 3",
   "language": "python",
   "name": "python3"
  },
  "language_info": {
   "codemirror_mode": {
    "name": "ipython",
    "version": 3
   },
   "file_extension": ".py",
   "mimetype": "text/x-python",
   "name": "python",
   "nbconvert_exporter": "python",
   "pygments_lexer": "ipython3",
   "version": "3.8.3"
  }
 },
 "nbformat": 4,
 "nbformat_minor": 4
}
